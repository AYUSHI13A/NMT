{
 "cells": [
  {
   "cell_type": "markdown",
   "id": "38f01787",
   "metadata": {},
   "source": [
    "# This part(III) is mainly for Testing\n",
    "# Prediction and BLEU Score\n",
    "\n",
    "### In this notebook I will :\n",
    "- Prediction\n",
    "- Bleu Score\n",
    "- Conclusion & Future Work\n",
    "### Note : Please read the conclusion at the end.\n",
    "\n",
    "- As the memory requirement will be more in the same file . So , I have use modules/functions from the 2nd file for testing"
   ]
  },
  {
   "cell_type": "markdown",
   "id": "4872e377",
   "metadata": {},
   "source": [
    "## Importing Required Libraries"
   ]
  },
  {
   "cell_type": "code",
   "execution_count": 1,
   "id": "eab3d26e",
   "metadata": {},
   "outputs": [
    {
     "name": "stdout",
     "output_type": "stream",
     "text": [
      "WARNING:tensorflow:From C:\\Users\\ayush\\anaconda3\\lib\\site-packages\\keras\\src\\losses.py:2976: The name tf.losses.sparse_softmax_cross_entropy is deprecated. Please use tf.compat.v1.losses.sparse_softmax_cross_entropy instead.\n",
      "\n"
     ]
    }
   ],
   "source": [
    "import numpy as np\n",
    "import os\n",
    "import pandas as pd\n",
    "import csv\n",
    "import tensorflow.python as tf\n",
    "import keras\n",
    "from keras.preprocessing.text import Tokenizer\n",
    "from keras.preprocessing.sequence import pad_sequences\n",
    "import json\n",
    "from keras.preprocessing.sequence import pad_sequences\n",
    "from tensorflow.keras.models import Sequential\n",
    "from tensorflow.keras.layers import Embedding , Bidirectional , LSTM , Dense\n",
    "from tensorflow.keras.optimizers import Adam\n",
    "from tensorflow.keras.callbacks import EarlyStopping\n",
    "from tensorflow.keras.layers import Dropout\n",
    "from sklearn.model_selection import train_test_split\n",
    "from tensorflow.keras.utils import plot_model\n",
    "from keras.models import Model\n",
    "from keras.models import load_model\n",
    "from keras.layers import Input, Embedding, LSTM, Bidirectional, RepeatVector, TimeDistributed, Dense\n",
    "import warnings\n",
    "warnings.filterwarnings('ignore')"
   ]
  },
  {
   "cell_type": "markdown",
   "id": "982c5af3",
   "metadata": {},
   "source": [
    "## Loading The Test Data"
   ]
  },
  {
   "cell_type": "code",
   "execution_count": 2,
   "id": "dedce561",
   "metadata": {},
   "outputs": [],
   "source": [
    "test_data_path = r'C:\\Users\\ayush\\jupyter Notebook\\NMT\\data\\Testing_data.csv'\n",
    "test_data_path = os.path.join(test_data_path)"
   ]
  },
  {
   "cell_type": "code",
   "execution_count": 3,
   "id": "fa3c4d01",
   "metadata": {},
   "outputs": [
    {
     "data": {
      "text/html": [
       "<div>\n",
       "<style scoped>\n",
       "    .dataframe tbody tr th:only-of-type {\n",
       "        vertical-align: middle;\n",
       "    }\n",
       "\n",
       "    .dataframe tbody tr th {\n",
       "        vertical-align: top;\n",
       "    }\n",
       "\n",
       "    .dataframe thead th {\n",
       "        text-align: right;\n",
       "    }\n",
       "</style>\n",
       "<table border=\"1\" class=\"dataframe\">\n",
       "  <thead>\n",
       "    <tr style=\"text-align: right;\">\n",
       "      <th></th>\n",
       "      <th>Unnamed: 0</th>\n",
       "      <th>Source</th>\n",
       "      <th>Target</th>\n",
       "    </tr>\n",
       "  </thead>\n",
       "  <tbody>\n",
       "    <tr>\n",
       "      <th>801</th>\n",
       "      <td>33110</td>\n",
       "      <td>comment sest passé le vol</td>\n",
       "      <td>&lt;start&gt;how was the flight&lt;end&gt;</td>\n",
       "    </tr>\n",
       "    <tr>\n",
       "      <th>20547</th>\n",
       "      <td>123966</td>\n",
       "      <td>quelle differentérence cela faitil</td>\n",
       "      <td>&lt;start&gt;what difference does it make&lt;end&gt;</td>\n",
       "    </tr>\n",
       "    <tr>\n",
       "      <th>28566</th>\n",
       "      <td>182787</td>\n",
       "      <td>ce sera une mission très dangereuse</td>\n",
       "      <td>&lt;start&gt;this will be a very dangerous mission&lt;end&gt;</td>\n",
       "    </tr>\n",
       "    <tr>\n",
       "      <th>43295</th>\n",
       "      <td>166293</td>\n",
       "      <td>elle était en train de lire un manuel de jardi...</td>\n",
       "      <td>&lt;start&gt;she was reading a gardening manual&lt;end&gt;</td>\n",
       "    </tr>\n",
       "    <tr>\n",
       "      <th>42854</th>\n",
       "      <td>199232</td>\n",
       "      <td>il était strict dans léducation de ses enfants</td>\n",
       "      <td>&lt;start&gt;he was strict in disciplining his child...</td>\n",
       "    </tr>\n",
       "  </tbody>\n",
       "</table>\n",
       "</div>"
      ],
      "text/plain": [
       "       Unnamed: 0                                             Source  \\\n",
       "801         33110                         comment sest passé le vol    \n",
       "20547      123966                quelle differentérence cela faitil    \n",
       "28566      182787                ce sera une mission très dangereuse   \n",
       "43295      166293  elle était en train de lire un manuel de jardi...   \n",
       "42854      199232     il était strict dans léducation de ses enfants   \n",
       "\n",
       "                                                  Target  \n",
       "801                       <start>how was the flight<end>  \n",
       "20547           <start>what difference does it make<end>  \n",
       "28566  <start>this will be a very dangerous mission<end>  \n",
       "43295     <start>she was reading a gardening manual<end>  \n",
       "42854  <start>he was strict in disciplining his child...  "
      ]
     },
     "execution_count": 3,
     "metadata": {},
     "output_type": "execute_result"
    }
   ],
   "source": [
    "testing_data = pd.read_csv(test_data_path , encoding = 'UTF-8')\n",
    "testing_data.sample(5)"
   ]
  },
  {
   "cell_type": "markdown",
   "id": "ed71554a",
   "metadata": {},
   "source": [
    "## Getting maximum_common length\n",
    "- This common_maximum_length is stored in the text file from the 2nd file . Now , we are using that max_length"
   ]
  },
  {
   "cell_type": "code",
   "execution_count": 4,
   "id": "ff197dbd",
   "metadata": {},
   "outputs": [],
   "source": [
    "## Initializing an empty variabe.\n",
    "COMMON_MAXIMUM_LENGTH = None\n",
    "## This file has the common_length_variable_saved.\n",
    "path = r'C:\\Users\\ayush\\jupyter Notebook\\NMT\\code_files\\MAXIMUM_COMMON_LENGTH.txt'\n",
    "## opening the file.\n",
    "with open(path) as file :\n",
    "    ## assigning the variable value.\n",
    "    COMMON_MAXIMUM_LENGTH = int(file.read())"
   ]
  },
  {
   "cell_type": "code",
   "execution_count": 5,
   "id": "c1597ef9",
   "metadata": {},
   "outputs": [
    {
     "data": {
      "text/plain": [
       "55"
      ]
     },
     "execution_count": 5,
     "metadata": {},
     "output_type": "execute_result"
    }
   ],
   "source": [
    "COMMON_MAXIMUM_LENGTH"
   ]
  },
  {
   "cell_type": "markdown",
   "id": "58180c39",
   "metadata": {},
   "source": [
    "## Importing function from nmt_module_convert_data.py to convert data into numerical sequences "
   ]
  },
  {
   "cell_type": "code",
   "execution_count": 33,
   "id": "b61c64f0",
   "metadata": {},
   "outputs": [],
   "source": [
    "from NMT_convert_data import convert_data"
   ]
  },
  {
   "cell_type": "markdown",
   "id": "c88f8f8e",
   "metadata": {},
   "source": [
    "## Separating Source and Target from the Testing Data"
   ]
  },
  {
   "cell_type": "code",
   "execution_count": 7,
   "id": "d08f7bd7",
   "metadata": {},
   "outputs": [],
   "source": [
    "## getting source language sentences.\n",
    "source = testing_data['Source']\n",
    "## getting target language sentences.\n",
    "target = testing_data['Target']"
   ]
  },
  {
   "cell_type": "markdown",
   "id": "2d70852e",
   "metadata": {},
   "source": [
    "## Calling convert data"
   ]
  },
  {
   "cell_type": "code",
   "execution_count": 8,
   "id": "cbdbeca9",
   "metadata": {},
   "outputs": [],
   "source": [
    "## passing the COMMON_MAX_LENGTH.\n",
    "source_sequences, target_sequences, _, _, _, _, _ = convert_data(source, target, COMMON_MAXIMUM_LENGTH)"
   ]
  },
  {
   "cell_type": "markdown",
   "id": "9476a551",
   "metadata": {},
   "source": [
    "## Encoder Model"
   ]
  },
  {
   "cell_type": "code",
   "execution_count": 9,
   "id": "f3dbc56f",
   "metadata": {},
   "outputs": [
    {
     "name": "stdout",
     "output_type": "stream",
     "text": [
      "WARNING:tensorflow:From C:\\Users\\ayush\\anaconda3\\lib\\site-packages\\keras\\src\\backend.py:1398: The name tf.executing_eagerly_outside_functions is deprecated. Please use tf.compat.v1.executing_eagerly_outside_functions instead.\n",
      "\n"
     ]
    }
   ],
   "source": [
    "encoder_model = load_model(r'C:\\Users\\ayush\\jupyter Notebook\\NMT\\code_files\\encoder_model.keras')"
   ]
  },
  {
   "cell_type": "code",
   "execution_count": 10,
   "id": "a467fcae",
   "metadata": {},
   "outputs": [
    {
     "name": "stdout",
     "output_type": "stream",
     "text": [
      "Model: \"model_1\"\n",
      "__________________________________________________________________________________________________\n",
      " Layer (type)                Output Shape                 Param #   Connected to                  \n",
      "==================================================================================================\n",
      " input_1 (InputLayer)        [(None, None)]               0         []                            \n",
      "                                                                                                  \n",
      " embedding (Embedding)       (None, None, 100)            150100    ['input_1[0][0]']             \n",
      "                                                                                                  \n",
      " bidirectional (Bidirection  [(None, 64),                 34048     ['embedding[0][0]']           \n",
      " al)                          (None, 32),                                                         \n",
      "                              (None, 32),                                                         \n",
      "                              (None, 32),                                                         \n",
      "                              (None, 32)]                                                         \n",
      "                                                                                                  \n",
      " concatenate (Concatenate)   (None, 64)                   0         ['bidirectional[0][1]',       \n",
      "                                                                     'bidirectional[0][3]']       \n",
      "                                                                                                  \n",
      " concatenate_1 (Concatenate  (None, 64)                   0         ['bidirectional[0][2]',       \n",
      " )                                                                   'bidirectional[0][4]']       \n",
      "                                                                                                  \n",
      "==================================================================================================\n",
      "Total params: 184148 (719.33 KB)\n",
      "Trainable params: 184148 (719.33 KB)\n",
      "Non-trainable params: 0 (0.00 Byte)\n",
      "__________________________________________________________________________________________________\n"
     ]
    }
   ],
   "source": [
    "encoder_model.summary()"
   ]
  },
  {
   "cell_type": "code",
   "execution_count": 11,
   "id": "c7968315",
   "metadata": {},
   "outputs": [
    {
     "data": {
      "image/png": "[encoded data removed]",
      "text/plain": [
       "<IPython.core.display.Image object>"
      ]
     },
     "execution_count": 11,
     "metadata": {},
     "output_type": "execute_result"
    }
   ],
   "source": [
    "plot_model(encoder_model , show_shapes = True)"
   ]
  },
  {
   "cell_type": "markdown",
   "id": "ec586cea",
   "metadata": {},
   "source": [
    "## Decoder Model"
   ]
  },
  {
   "cell_type": "code",
   "execution_count": 12,
   "id": "8c55f015",
   "metadata": {},
   "outputs": [],
   "source": [
    "decoder_model = load_model(r'C:\\Users\\ayush\\jupyter Notebook\\NMT\\code_files\\decoder_model.keras')"
   ]
  },
  {
   "cell_type": "code",
   "execution_count": 13,
   "id": "978acb98",
   "metadata": {},
   "outputs": [
    {
     "name": "stdout",
     "output_type": "stream",
     "text": [
      "Model: \"model_2\"\n",
      "__________________________________________________________________________________________________\n",
      " Layer (type)                Output Shape                 Param #   Connected to                  \n",
      "==================================================================================================\n",
      " input_2 (InputLayer)        [(None, None)]               0         []                            \n",
      "                                                                                                  \n",
      " embedding_1 (Embedding)     (None, None, 100)            150100    ['input_2[0][0]']             \n",
      "                                                                                                  \n",
      " input_3 (InputLayer)        [(None, 64)]                 0         []                            \n",
      "                                                                                                  \n",
      " input_4 (InputLayer)        [(None, 64)]                 0         []                            \n",
      "                                                                                                  \n",
      " lstm_1 (LSTM)               [(None, None, 64),           42240     ['embedding_1[0][0]',         \n",
      "                              (None, 64),                            'input_3[0][0]',             \n",
      "                              (None, 64)]                            'input_4[0][0]']             \n",
      "                                                                                                  \n",
      " dense (Dense)               (None, None, 1501)           97565     ['lstm_1[0][0]']              \n",
      "                                                                                                  \n",
      "==================================================================================================\n",
      "Total params: 289905 (1.11 MB)\n",
      "Trainable params: 289905 (1.11 MB)\n",
      "Non-trainable params: 0 (0.00 Byte)\n",
      "__________________________________________________________________________________________________\n"
     ]
    }
   ],
   "source": [
    "decoder_model.summary()"
   ]
  },
  {
   "cell_type": "code",
   "execution_count": 14,
   "id": "f348e1c3",
   "metadata": {},
   "outputs": [
    {
     "data": {
      "image/png": "[encoded data removed]",
      "text/plain": [
       "<IPython.core.display.Image object>"
      ]
     },
     "execution_count": 14,
     "metadata": {},
     "output_type": "execute_result"
    }
   ],
   "source": [
    "plot_model(decoder_model , show_shapes = True)"
   ]
  },
  {
   "cell_type": "code",
   "execution_count": 32,
   "id": "2afeab5a",
   "metadata": {},
   "outputs": [],
   "source": [
    "def reclean_target(sent) :\n",
    "    \n",
    "    '''\n",
    "    This function removes 'start' and 'end' from the sentences.\n",
    "    '''\n",
    "    \n",
    "    new_sent = sent.split()[1: -2]\n",
    "    return ' '.join(new_sent)"
   ]
  },
  {
   "cell_type": "code",
   "execution_count": 16,
   "id": "e16bf49a",
   "metadata": {},
   "outputs": [
    {
     "data": {
      "text/html": [
       "<div>\n",
       "<style scoped>\n",
       "    .dataframe tbody tr th:only-of-type {\n",
       "        vertical-align: middle;\n",
       "    }\n",
       "\n",
       "    .dataframe tbody tr th {\n",
       "        vertical-align: top;\n",
       "    }\n",
       "\n",
       "    .dataframe thead th {\n",
       "        text-align: right;\n",
       "    }\n",
       "</style>\n",
       "<table border=\"1\" class=\"dataframe\">\n",
       "  <thead>\n",
       "    <tr style=\"text-align: right;\">\n",
       "      <th></th>\n",
       "      <th>Unnamed: 0</th>\n",
       "      <th>Source</th>\n",
       "      <th>Target</th>\n",
       "    </tr>\n",
       "  </thead>\n",
       "  <tbody>\n",
       "    <tr>\n",
       "      <th>27055</th>\n",
       "      <td>54485</td>\n",
       "      <td>tu as été infecté</td>\n",
       "      <td>have</td>\n",
       "    </tr>\n",
       "    <tr>\n",
       "      <th>20501</th>\n",
       "      <td>40352</td>\n",
       "      <td>jaime skier</td>\n",
       "      <td>am fond</td>\n",
       "    </tr>\n",
       "    <tr>\n",
       "      <th>20358</th>\n",
       "      <td>187793</td>\n",
       "      <td>quoi que tu fasses tu dois le faire de ton mieux</td>\n",
       "      <td>you do you must do</td>\n",
       "    </tr>\n",
       "    <tr>\n",
       "      <th>27597</th>\n",
       "      <td>144724</td>\n",
       "      <td>jétais lhomme le plus heureux de la terre</td>\n",
       "      <td>was the happiest man</td>\n",
       "    </tr>\n",
       "    <tr>\n",
       "      <th>35005</th>\n",
       "      <td>216580</td>\n",
       "      <td>soyez calmes si vous nêtes pas calmes on vous ...</td>\n",
       "      <td>quiet if you are not quiet you will be</td>\n",
       "    </tr>\n",
       "  </tbody>\n",
       "</table>\n",
       "</div>"
      ],
      "text/plain": [
       "       Unnamed: 0                                             Source  \\\n",
       "27055       54485                                  tu as été infecté   \n",
       "20501       40352                                        jaime skier   \n",
       "20358      187793   quoi que tu fasses tu dois le faire de ton mieux   \n",
       "27597      144724          jétais lhomme le plus heureux de la terre   \n",
       "35005      216580  soyez calmes si vous nêtes pas calmes on vous ...   \n",
       "\n",
       "                                       Target  \n",
       "27055                                    have  \n",
       "20501                                 am fond  \n",
       "20358                      you do you must do  \n",
       "27597                    was the happiest man  \n",
       "35005  quiet if you are not quiet you will be  "
      ]
     },
     "execution_count": 16,
     "metadata": {},
     "output_type": "execute_result"
    }
   ],
   "source": [
    "testing_data['Target'] = testing_data['Target'].apply(reclean_target)\n",
    "testing_data.sample(5)"
   ]
  },
  {
   "cell_type": "markdown",
   "id": "d75d3cf3",
   "metadata": {},
   "source": [
    "## Prediction"
   ]
  },
  {
   "cell_type": "code",
   "execution_count": 17,
   "id": "02be7e70",
   "metadata": {},
   "outputs": [],
   "source": [
    "def predicted_translation(input_seq, encoder_model, decoder_model, Target_word_index, COMMON_MAXIMUM_LENGTH):\n",
    "    \n",
    "    '''\n",
    "    This function predicts the target output from the given input sequence.\n",
    "    '''\n",
    "    \n",
    "    ## Predict the context vector from the encoder.\n",
    "    state_values = encoder_model.predict(np.expand_dims(input_seq, axis=0)) ## coverting the 1D sequence to 2D.\n",
    "    \n",
    "    # Define the initial target sequence with the 'sos' token.\n",
    "    target_numerical_sequence = np.zeros((1,1))\n",
    "    target_numerical_sequence[0][0] = Target_word_index['start']\n",
    "    \n",
    "    ## define seq_len, which will work as an iterator\n",
    "    seq_len = 1\n",
    "    \n",
    "    ## initialize the final output string\n",
    "    final_translated_output = []\n",
    "    \n",
    "    ## boolean variable to terminate the loop\n",
    "    stop_condition = False\n",
    "    first = True\n",
    "    \n",
    "    while not stop_condition:\n",
    "        \n",
    "        ## Predict the next sequence and the context vector.\n",
    "        output_tokens, h, c = decoder_model.predict([target_numerical_sequence] + list(state_values))\n",
    "        \n",
    "        # Get the predicted numerical.\n",
    "        predicted_word_index = np.argmax(output_tokens[0, -1, :])\n",
    "        \n",
    "        if (predicted_word_index == 0) :\n",
    "            break\n",
    "        \n",
    "        # Get the word from this predicted numerical.\n",
    "        predicted_word = list(Target_word_index.keys())[list(Target_word_index.values()).index(predicted_word_index)]\n",
    "        \n",
    "        ## terminating condition.\n",
    "        if (predicted_word == 'end' or seq_len > COMMON_MAXIMUM_LENGTH):\n",
    "            stop_condition = True\n",
    "            break\n",
    "        \n",
    "        ## add the word to the output string.\n",
    "        \n",
    "        final_translated_output.append(predicted_word)\n",
    "        # Update the target sequence by appending the predicted_word_index.\n",
    "        target_numerical_sequence[0, 0] = predicted_word_index\n",
    "        seq_len += 1\n",
    "        \n",
    "        # Update states.\n",
    "        state_values = [h, c]\n",
    "        \n",
    "    return ' '.join(final_translated_output)"
   ]
  },
  {
   "cell_type": "markdown",
   "id": "8386e33a",
   "metadata": {},
   "source": [
    "### Importing JSON file\n",
    "\n",
    "- That containg target_word_index"
   ]
  },
  {
   "cell_type": "code",
   "execution_count": 18,
   "id": "015deb33",
   "metadata": {},
   "outputs": [],
   "source": [
    "json_file_path = r'C:\\Users\\ayush\\jupyter Notebook\\NMT\\code_files\\target_word_indices.json'\n",
    "\n",
    "# Load JSON data from the file\n",
    "with open(json_file_path, 'r') as file:\n",
    "    target_word_index = json.load(file)"
   ]
  },
  {
   "cell_type": "markdown",
   "id": "1474c452",
   "metadata": {},
   "source": [
    "### Predicting\n",
    "\n",
    "- I am only predicting 10 , as it will take to much time to test all the Testing_data"
   ]
  },
  {
   "cell_type": "code",
   "execution_count": 19,
   "id": "c1352b43",
   "metadata": {
    "scrolled": true
   },
   "outputs": [
    {
     "name": "stdout",
     "output_type": "stream",
     "text": [
      "1/1 [==============================] - 2s 2s/step\n",
      "1/1 [==============================] - 1s 1s/step\n",
      "1/1 [==============================] - 0s 26ms/step\n",
      "1/1 [==============================] - 0s 20ms/step\n",
      "1/1 [==============================] - 0s 21ms/step\n",
      "1/1 [==============================] - 0s 24ms/step\n",
      "1/1 [==============================] - 0s 20ms/step\n",
      "1/1 [==============================] - 0s 20ms/step\n",
      "1/1 [==============================] - 0s 21ms/step\n",
      "1/1 [==============================] - 0s 27ms/step\n",
      "1/1 [==============================] - 0s 19ms/step\n",
      "1/1 [==============================] - 0s 20ms/step\n",
      "1/1 [==============================] - 0s 23ms/step\n",
      "1/1 [==============================] - 0s 22ms/step\n",
      "1/1 [==============================] - 0s 22ms/step\n",
      "1/1 [==============================] - 0s 20ms/step\n",
      "1/1 [==============================] - 0s 22ms/step\n",
      "1/1 [==============================] - 0s 20ms/step\n",
      "1/1 [==============================] - 0s 18ms/step\n",
      "1/1 [==============================] - 0s 23ms/step\n",
      "1/1 [==============================] - 0s 25ms/step\n",
      "1/1 [==============================] - 0s 22ms/step\n",
      "1/1 [==============================] - 0s 21ms/step\n",
      "1/1 [==============================] - 0s 20ms/step\n",
      "1/1 [==============================] - 0s 20ms/step\n",
      "1/1 [==============================] - 0s 20ms/step\n",
      "1/1 [==============================] - 0s 18ms/step\n",
      "1/1 [==============================] - 0s 21ms/step\n",
      "1/1 [==============================] - 0s 20ms/step\n",
      "1/1 [==============================] - 0s 18ms/step\n",
      "1/1 [==============================] - 0s 18ms/step\n",
      "1/1 [==============================] - 0s 18ms/step\n",
      "1/1 [==============================] - 0s 22ms/step\n",
      "1/1 [==============================] - 0s 22ms/step\n",
      "1/1 [==============================] - 0s 22ms/step\n",
      "1/1 [==============================] - 0s 21ms/step\n",
      "1/1 [==============================] - 0s 22ms/step\n",
      "1/1 [==============================] - 0s 28ms/step\n",
      "1/1 [==============================] - 0s 26ms/step\n",
      "1/1 [==============================] - 0s 24ms/step\n",
      "1/1 [==============================] - 0s 19ms/step\n",
      "1/1 [==============================] - 0s 22ms/step\n",
      "1/1 [==============================] - 0s 20ms/step\n",
      "1/1 [==============================] - 0s 21ms/step\n",
      "1/1 [==============================] - 0s 20ms/step\n",
      "1/1 [==============================] - 0s 19ms/step\n",
      "1/1 [==============================] - 0s 20ms/step\n",
      "1/1 [==============================] - 0s 26ms/step\n",
      "1/1 [==============================] - 0s 19ms/step\n",
      "1/1 [==============================] - 0s 22ms/step\n",
      "1/1 [==============================] - 0s 22ms/step\n",
      "1/1 [==============================] - 0s 22ms/step\n",
      "1/1 [==============================] - 0s 27ms/step\n",
      "1/1 [==============================] - 0s 23ms/step\n",
      "1/1 [==============================] - 0s 21ms/step\n",
      "1/1 [==============================] - 0s 21ms/step\n",
      "1/1 [==============================] - 0s 18ms/step\n",
      "1/1 [==============================] - 0s 21ms/step\n",
      "1/1 [==============================] - 0s 21ms/step\n",
      "1/1 [==============================] - 0s 18ms/step\n",
      "1/1 [==============================] - 0s 19ms/step\n",
      "1/1 [==============================] - 0s 18ms/step\n",
      "1/1 [==============================] - 0s 18ms/step\n",
      "1/1 [==============================] - 0s 23ms/step\n",
      "1/1 [==============================] - 0s 24ms/step\n",
      "1/1 [==============================] - 0s 20ms/step\n",
      "1/1 [==============================] - 0s 21ms/step\n",
      "1/1 [==============================] - 0s 19ms/step\n",
      "1/1 [==============================] - 0s 19ms/step\n",
      "1/1 [==============================] - 0s 23ms/step\n",
      "1/1 [==============================] - 0s 18ms/step\n",
      "1/1 [==============================] - 0s 20ms/step\n",
      "1/1 [==============================] - 0s 18ms/step\n",
      "1/1 [==============================] - 0s 21ms/step\n",
      "1/1 [==============================] - 0s 20ms/step\n",
      "1/1 [==============================] - 0s 18ms/step\n",
      "1/1 [==============================] - 0s 20ms/step\n",
      "1/1 [==============================] - 0s 20ms/step\n",
      "1/1 [==============================] - 0s 18ms/step\n",
      "1/1 [==============================] - 0s 20ms/step\n",
      "1/1 [==============================] - 0s 19ms/step\n",
      "1/1 [==============================] - 0s 18ms/step\n"
     ]
    }
   ],
   "source": [
    "predicted_sentences = list()\n",
    "for itr in range(10) :\n",
    "    predicted_sentences.append(predicted_translation(source_sequences[itr], encoder_model, decoder_model, target_word_index, COMMON_MAXIMUM_LENGTH))"
   ]
  },
  {
   "cell_type": "code",
   "execution_count": 20,
   "id": "0d6c5c1f",
   "metadata": {},
   "outputs": [
    {
     "name": "stdout",
     "output_type": "stream",
     "text": [
      "Source : si vous me donnez un livre je le lirai\n",
      "Actual Target : you give me a book i will\n",
      "Predicted Target : if tom will give you a ride\n",
      "\n",
      "Source : nous partirons demain si le temps le permet\n",
      "Actual Target : will leave tomorrow\n",
      "Predicted Target : we will take this <UKN> if we can go\n",
      "\n",
      "Source : je suis si heureux que je mélève dans le ciel\n",
      "Actual Target : am so happy i feel like i\n",
      "Predicted Target : i wonder if i <UKN> in a <UKN>\n",
      "\n",
      "Source : arrêtezvous ici \n",
      "Actual Target : \n",
      "Predicted Target : let us get here\n",
      "\n",
      "Source : moïse descendit de la montagne en portant les commandements divins\n",
      "Actual Target : came down from the mountain bearing\n",
      "Predicted Target : <UKN> <UKN> <UKN> <UKN> <UKN> <UKN>\n",
      "\n",
      "Source : je te suis reconnaissant pour ton temps\n",
      "Actual Target : appreciate\n",
      "Predicted Target : i am <UKN> you can\n",
      "\n",
      "Source : que proposestu \n",
      "Actual Target : do\n",
      "Predicted Target : what are you going\n",
      "\n",
      "Source : vous avez vraiment beaucoup de chance\n",
      "Actual Target : are\n",
      "Predicted Target : tom wants to write your <UKN>\n",
      "\n",
      "Source : quen pensezvous  ce serait chouette \n",
      "Actual Target : do you think about it it would\n",
      "Predicted Target : <UKN> of the <UKN> was <UKN>\n",
      "\n",
      "Source : cette maladie mène progressivement à la cécité\n",
      "Actual Target : disease gradually leads\n",
      "Predicted Target : are the <UKN> <UKN> to the <UKN>\n",
      "\n"
     ]
    }
   ],
   "source": [
    "## iterate the predicted sentences.\n",
    "for itr in range(10) :\n",
    "    print('Source :', source[itr])\n",
    "    print('Actual Target :', testing_data['Target'][itr])\n",
    "    print('Predicted Target :', predicted_sentences[itr])\n",
    "    print()"
   ]
  },
  {
   "cell_type": "markdown",
   "id": "8a4f068d",
   "metadata": {},
   "source": [
    "## 2. BLEU Score\n",
    "\n",
    "BLEU (Bilingual Evaluation Understudy) is a metric used for evaluating the quality of machine-translated text by comparing it to one or more reference translations. It is widely used in natural language processing tasks, including machine translation.\n",
    "\n",
    "### Components of BLEU Score\n",
    "BLEU is based on precision at the n-gram level. The score is computed using the following components:\n",
    "\n",
    "#### 1. N-gram Precision\n",
    "- BLEU considers precision at different n-gram levels (unigrams, bigrams, etc.).\n",
    "- Precision at each level is calculated by comparing the number of overlapping n-grams in the candidate (predicted) translation with the reference translation.\n",
    "\n",
    "#### 2. Modified Precision\n",
    "- Modified precision is used to handle the issue of short translations receiving inflated scores.\n",
    "- It involves brevity penalty to penalize shorter translations.\n",
    "\n",
    "#### 3. BLEU Score Calculation\n",
    "- The overall BLEU score is calculated by combining the modified precision scores at different n-gram levels using a weighted geometric mean.\n",
    "- The weights are typically set to favor shorter n-grams.\n",
    "\n",
    "#### Implementation\n",
    "- Import sentence_bleu() from NLTK\n",
    "- Calculate BLEU Score."
   ]
  },
  {
   "cell_type": "code",
   "execution_count": 24,
   "id": "bbf1c1b5",
   "metadata": {},
   "outputs": [],
   "source": [
    "from nltk.translate.bleu_score import sentence_bleu\n",
    "import warnings\n",
    "warnings.filterwarnings(\"ignore\")"
   ]
  },
  {
   "cell_type": "markdown",
   "id": "cc26dc1a",
   "metadata": {},
   "source": [
    "## Evaluating the model using BLEU score"
   ]
  },
  {
   "cell_type": "code",
   "execution_count": 25,
   "id": "da4a4ee0",
   "metadata": {},
   "outputs": [],
   "source": [
    "def compute_bleu(actual_target_tokens, predicted_target_tokens):\n",
    "    return sentence_bleu([actual_target_tokens], predicted_target_tokens)"
   ]
  },
  {
   "cell_type": "code",
   "execution_count": 26,
   "id": "2e6412ad",
   "metadata": {},
   "outputs": [],
   "source": [
    "# Stroring Bleu Scores for the first 10 predicted sentences.\n",
    "## initialize a list.\n",
    "bleu_scores = list()\n",
    "## iterate first 10 predicted sentences.\n",
    "for itr in range(10):\n",
    "    actual_target = testing_data['Target'][itr]\n",
    "    predicted_target = predicted_sentences[itr]\n",
    "\n",
    "    # Tokenize the actual and predicted sentences\n",
    "    actual_target_tokens = actual_target.split()\n",
    "    predicted_target_tokens = predicted_target.split()\n",
    "\n",
    "    # Compute BLEU score\n",
    "    bleu_score = compute_bleu(actual_target_tokens, predicted_target_tokens)\n",
    "    bleu_scores.append(bleu_score)"
   ]
  },
  {
   "cell_type": "code",
   "execution_count": 28,
   "id": "0027f8f6",
   "metadata": {},
   "outputs": [],
   "source": [
    "import matplotlib.pyplot as plt"
   ]
  },
  {
   "cell_type": "markdown",
   "id": "c1bc03ef",
   "metadata": {},
   "source": [
    "## Function for plotting of BLEU score"
   ]
  },
  {
   "cell_type": "code",
   "execution_count": 29,
   "id": "8cbe6f5d",
   "metadata": {},
   "outputs": [],
   "source": [
    "def plot_bleu_scores(bleu_scores):\n",
    "    '''\n",
    "    This function plots the Bleu Score\n",
    "    '''\n",
    "    \n",
    "    ## create the epochs array.\n",
    "    epochs = np.arange(1, len(bleu_scores) + 1)\n",
    "\n",
    "    # Plotting\n",
    "    plt.figure(figsize=(6, 3))\n",
    "    plt.plot(epochs, bleu_scores, linestyle='-', marker='o', color='b', label='BLEU Score')\n",
    "    \n",
    "    # Add labels and title\n",
    "    plt.title('BLEU Score Over Epochs')\n",
    "    plt.xlabel('Epochs')\n",
    "    plt.ylabel('BLEU Score')\n",
    "    \n",
    "    # Add grid and legend\n",
    "    plt.grid(True)\n",
    "    plt.legend()\n",
    "    \n",
    "    # Show the plot\n",
    "    plt.show()"
   ]
  },
  {
   "cell_type": "code",
   "execution_count": 31,
   "id": "8feccd05",
   "metadata": {},
   "outputs": [
    {
     "data": {
      "image/png": "[encoded data removed]",
      "text/plain": [
       "<Figure size 600x300 with 1 Axes>"
      ]
     },
     "metadata": {},
     "output_type": "display_data"
    },
    {
     "data": {
      "text/plain": [
       "<Figure size 640x480 with 0 Axes>"
      ]
     },
     "metadata": {},
     "output_type": "display_data"
    }
   ],
   "source": [
    "plot_bleu_scores(bleu_scores)\n",
    "## saving the plot\n",
    "plt.savefig(r'C:\\Users\\ayush\\jupyter Notebook\\NMT\\data\\Bleu_score.png')"
   ]
  },
  {
   "cell_type": "markdown",
   "id": "6b9032c1",
   "metadata": {},
   "source": [
    "## 3. Conclusion & Future Work\n",
    "#### Conclusion\n",
    "- I have created a NMT_Module.py file, which has all the functions required in the project.\n",
    "- I have followed a basic Encoder - Decoder Architecture to create the model.\n",
    "- The model has been trained on less parameters, 1500 words, 10 epochs, 64 and 128 units in LSTM.\n",
    "- The model has an accuracy of 70%.\n",
    "#### Future Work\n",
    "The future work is to :\n",
    "- Create an Attention Model.\n",
    "- use distributed training, to build a large model and train the model on large set of parameters.\n",
    "- Use Mlops Concepts like data pipelining and Deploying the model.\n",
    "- Create a WebApp using Streamlit."
   ]
  }
 ],
 "metadata": {
  "kernelspec": {
   "display_name": "Python 3 (ipykernel)",
   "language": "python",
   "name": "python3"
  },
  "language_info": {
   "codemirror_mode": {
    "name": "ipython",
    "version": 3
   },
   "file_extension": ".py",
   "mimetype": "text/x-python",
   "name": "python",
   "nbconvert_exporter": "python",
   "pygments_lexer": "ipython3",
   "version": "3.9.13"
  }
 },
 "nbformat": 4,
 "nbformat_minor": 5
}
